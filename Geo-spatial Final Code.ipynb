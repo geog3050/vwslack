{
 "cells": [
  {
   "cell_type": "code",
   "execution_count": null,
   "metadata": {
    "scrolled": true
   },
   "outputs": [],
   "source": [
    "import arcpy as arc"
   ]
  },
  {
   "cell_type": "code",
   "execution_count": null,
   "metadata": {
    "scrolled": true
   },
   "outputs": [],
   "source": [
    "arc.env.workspace=\"C:\\\\Users\\\\Zeke\\\\Desktop\\\\Geospatial_final_workspace\"\n",
    "print(arc.env.workspace)"
   ]
  },
  {
   "cell_type": "code",
   "execution_count": null,
   "metadata": {},
   "outputs": [],
   "source": [
    "# Define shapefile for Census block group data\n",
    "\n",
    "shapefile_name = \"IA_blck_grp_2022.shp\"\n",
    "\n",
    "# Output feature class name\n",
    "output_fc_name = \"IA_blck_grp_2022\"\n",
    "\n",
    "# Copy the shapefile to a feature class\n",
    "arc.management.CopyFeatures(shapefile_name, output_fc_name)"
   ]
  },
  {
   "cell_type": "code",
   "execution_count": null,
   "metadata": {},
   "outputs": [],
   "source": [
    "#GTFS usually follow simliar template with file organization and often are extracted as txt files\n",
    "# Use arc tools to create feature class for route and stops\n",
    "\n",
    "arc.conversion.GTFSShapesToFeatures(\"C:\\\\Users\\\\Zeke\\\\Downloads\\\\gtfs\\\\shapes.txt\", 'routes')\n",
    "\n",
    "\n",
    "arc.transit.GTFSStopsToFeatures(\"C:\\\\Users\\\\Zeke\\\\Downloads\\\\gtfs\\\\stops.txt\", 'stops')"
   ]
  },
  {
   "cell_type": "code",
   "execution_count": null,
   "metadata": {},
   "outputs": [],
   "source": [
    "#define the projection of new 'routes' ans 'stops' to match CBG\n",
    "projection_source = 'IA_blck_grp_2022.shp'\n",
    "\n",
    "# Layers to be reprojected\n",
    "routes_layer = \"routes\"\n",
    "stops_layer = \"stops\"\n",
    "\n",
    "# Define the projection\n",
    "arcpy.management.DefineProjection(routes_layer, projection_source)\n",
    "arcpy.management.DefineProjection(stops_layer, projection_source)"
   ]
  },
  {
   "cell_type": "code",
   "execution_count": null,
   "metadata": {},
   "outputs": [],
   "source": [
    "#Select Block groups that median income is below living wage threshold per MIT\n",
    "arc.management.SelectLayerByAttribute(\n",
    "    in_layer_or_view=\"IA_blck_grp_2022\",\n",
    "    selection_type=\"NEW_SELECTION\",\n",
    "    where_clause=\"AQP6M001 <= 35786\",\n",
    "    invert_where_clause=None\n",
    ")\n",
    "\n",
    "#Make layer from selection\n",
    "arc.management.CopyFeatures(\"IA_blck_grp_2022\",\"blk_grp_no_routes\")"
   ]
  },
  {
   "cell_type": "code",
   "execution_count": null,
   "metadata": {},
   "outputs": [],
   "source": [
    "#Spatial Join routes and block groups\n",
    "arc.analysis.SpatialJoin(\"blk_grp_no_routes\",\"routes\", 'blk_grp_wroutes.shp', 'JOIN_ONE_TO_MANY')"
   ]
  },
  {
   "cell_type": "code",
   "execution_count": null,
   "metadata": {},
   "outputs": [],
   "source": [
    "#Generate service areas around each stop that cover a 10 minute walking range\n",
    "arc.agolservices.GenerateServiceAreas(\"stops_IC\",\"10\", \"Minutes\")"
   ]
  },
  {
   "cell_type": "code",
   "execution_count": null,
   "metadata": {},
   "outputs": [],
   "source": [
    "#Using Arc Pro import POI data from SafeGraph\n",
    "with arc.EnvManager(extent='362106.118999999 467997.711200001 375052.946199998 479007.7938 PROJCS[\"USA_Contiguous_Albers_Equal_Area_Conic\",GEOGCS[\"GCS_North_American_1983\",DATUM[\"D_North_American_1983\",SPHEROID[\"GRS_1980\",6378137.0,298.257222101]],PRIMEM[\"Greenwich\",0.0],UNIT[\"Degree\",0.0174532925199433]],PROJECTION[\"Albers\"],PARAMETER[\"False_Easting\",0.0],PARAMETER[\"False_Northing\",0.0],PARAMETER[\"Central_Meridian\",-96.0],PARAMETER[\"Standard_Parallel_1\",29.5],PARAMETER[\"Standard_Parallel_2\",45.5],PARAMETER[\"Latitude_Of_Origin\",37.5],UNIT[\"Meter\",1.0]]'):\n",
    "    arc.ba.GeneratePointsFromBusinessListings(\n",
    "        out_feature_class=r\"C:\\Users\\Zeke\\Desktop\\Geospatial_final_workspace\\POI.shp\",\n",
    "        in_search_features=\"IA_blck_grp_2022\",\n",
    "        search_terms=\"\",\n",
    "        exact_match=\"PARTIAL_MATCH\",\n",
    "        match_name_only=\"MATCH_ALL_FIELDS\",\n",
    "        filters=None,\n",
    "        max_count=5000,\n",
    "        business_dataset=\"US.SafeGraphBUS\"\n",
    "    )"
   ]
  },
  {
   "cell_type": "code",
   "execution_count": null,
   "metadata": {},
   "outputs": [],
   "source": [
    "#If needed use select by attribute to specify data to correct extent\n",
    "arc.management.SelectLayerByLocation(\n",
    "    in_layer=\"POI\",\n",
    "    overlap_type=\"WITHIN\",\n",
    "    select_features=\"blk_grp_wroutes\",\n",
    "    search_distance=None,\n",
    "    selection_type=\"NEW_SELECTION\",\n",
    "    invert_spatial_relationship=\"NOT_INVERT\"\n",
    ")\n",
    "\n",
    "#Create layer from selection\n",
    "arc.management.CopyFeatures(\"POI\", \"IC_POI\")"
   ]
  },
  {
   "cell_type": "code",
   "execution_count": null,
   "metadata": {},
   "outputs": [],
   "source": [
    "#Using Labor Stats match adjusted mean income to industry of POI- matching the income dict by the first two digits of NAICS codes\n",
    "\n",
    "fc_name = \"IC_POI\"  # Update with your feature class name\n",
    "\n",
    "# Input dictionary containing NAICS code mappings\n",
    "income_dict = {\n",
    "    \"23\": 65222,\n",
    "    \"31\": 26224,\n",
    "    \"32\": 71595,\n",
    "    \"33\": 26584,\n",
    "    \"42\": 71595,\n",
    "    \"44\": 26935,\n",
    "    \"45\": 26935,\n",
    "    \"48\": 57772,\n",
    "    \"49\": 57772,\n",
    "    \"51\": 40197,\n",
    "    \"52\": 63669,\n",
    "    \"53\": 77452,\n",
    "    \"54\": 39466,\n",
    "    \"55\": 40314,\n",
    "    \"56\": 63669,\n",
    "    \"61\": 61088,\n",
    "    \"62\": 61088,\n",
    "    \"71\": 63669,\n",
    "    \"72\": 64085,\n",
    "    \"81\": 64085,\n",
    "    \"92\": 26935\n",
    "}\n",
    "\n",
    "# Add new field to the feature class\n",
    "new_field_name = 'Income'  # Name of the new field to be added\n",
    "field_type = 'TEXT'  # Data type of the new field\n",
    "field_length = 10  # Length of the new field (adjust as needed)\n",
    "\n",
    "arc.AddField_management(in_table=fc_name,\n",
    "                          field_name=new_field_name,\n",
    "                          field_type=field_type,\n",
    "                          field_length=field_length)\n",
    "\n",
    "# Update the new field based on NAICS codes\n",
    "with arc.da.UpdateCursor(fc_name, ['naics_code', new_field_name]) as cursor:\n",
    "    for row in cursor:\n",
    "        naics_code = row[0]\n",
    "        first_two_digits = naics_code[:2]  # Get the first two digits of NAICS code\n",
    "        if first_two_digits in income_dict:\n",
    "            row[1] = income_dict[first_two_digits]\n",
    "        else:\n",
    "            row[1] = 'NA'  # Set a default value if NAICS code not found in dictionary\n",
    "        cursor.updateRow(row)\n"
   ]
  },
  {
   "cell_type": "code",
   "execution_count": null,
   "metadata": {},
   "outputs": [],
   "source": [
    "#Filter POI data based on places that average livable wage or above \n",
    "# Set the income threshold\n",
    "income_threshold = 35786\n",
    "\n",
    "where_clause= f\"Income_1 >= {income_threshold}\"\n",
    "\n",
    "# Perform attribute query to select points with income above the threshold\n",
    "arc.management.SelectLayerByAttribute(\n",
    "    in_layer_or_view=\"IC_POI\",\n",
    "    selection_type=\"NEW_SELECTION\",\n",
    "    where_clause=where_clause\n",
    ")\n",
    "\n",
    "# Save the selected points to a new feature class\n",
    "arc.management.CopyFeatures(\n",
    "    in_features=\"IC_POI\",\n",
    "    out_feature_class=\"workplaces\"\n",
    ")"
   ]
  },
  {
   "cell_type": "code",
   "execution_count": null,
   "metadata": {},
   "outputs": [],
   "source": [
    "#Filter workplaces that are within CBG and associated bus routes\n",
    "arc.management.SelectLayerByLocation(\"workplaces\",\"WITHIN\",\"blk_grp_wroutes\")\n",
    "\n",
    "#Make into layer\n",
    "arc.management.CopyFeatures(\n",
    "    in_features=\"workplaces\",\n",
    "    out_feature_class=\"Total_workplaces_in_block_group\"\n",
    ")"
   ]
  },
  {
   "cell_type": "code",
   "execution_count": null,
   "metadata": {},
   "outputs": [],
   "source": [
    "#Filter total work places by the generated \"Service Areas\" to determine which workplaces are accessible by transit\n",
    "arc.management.SelectLayerByLocation(\"Total_workplaces_in_block_group\", \"WITHIN\", \"Service Areas\")\n",
    "\n",
    "#Make into layer\n",
    "arc.management.CopyFeatures(\n",
    "    in_features=\"Total_workplaces_in_block_group\",\n",
    "    out_features_class=\"workplaces_transit_filtered\"\n",
    ")"
   ]
  },
  {
   "cell_type": "code",
   "execution_count": null,
   "metadata": {},
   "outputs": [],
   "source": [
    "cbg_shp=\"blk_grp_no_routes\" #use unjoined block group layer to avoid creating values for 'route' shapes\n",
    "wta=\"workplaces_transit_filtered\"\n",
    "wt=\"Total_workplaces_in_block_group\"\n",
    "\n",
    "# Check if the fields exist in the CBG feature class, if not, create them\n",
    "field_names = [field.name for field in arcpy.ListFields(cbg_shp)]\n",
    "if \"CWC\" not in field_names:\n",
    "    arc.AddField_management(cbg_shp, \"CWC\", \"LONG\")\n",
    "if \"PCW\" not in field_names:\n",
    "    arc.AddField_management(cbg_shp, \"PCW\", \"DOUBLE\")\n",
    "# Loop through each CBG and calculate the number and percentage of transit-accessible workplaces\n",
    "with arc.da.SearchCursor(cbg_shp, [\"GEOID\"]) as cursor:\n",
    "    for row in cursor:\n",
    "        cbg_oid = row[0]\n",
    "        print(cbg_oid)\n",
    "        \n",
    "        # Define the query expression to select the current CBG based on its ObjectID\n",
    "        query_expression = \"GEOID ='{}'\".format(cbg_oid)\n",
    "        print(query_expression)\n",
    "        \n",
    "        # Select the current CBG in the CBG layer\n",
    "        arc.management.SelectLayerByAttribute(cbg_shp, \"NEW_SELECTION\", query_expression)\n",
    "\n",
    "        # Calculate the percentage of transit-accessible workplaces for the current CBG\n",
    "        arc.management.SelectLayerByLocation(wt, \"WITHIN\", cbg_shp)\n",
    "        total_workplaces_count = arc.GetCount_management(wt).getOutput(0)\n",
    "        print(total_workplaces_count)\n",
    "        \n",
    "        # Select the transit-accessible workplaces within the current CBG\n",
    "        arc.management.SelectLayerByLocation(wta, \"WITHIN\", cbg_shp)\n",
    "\n",
    "        # Count the number of selected transit-accessible workplaces\n",
    "        conducive_workplaces_count = arc.GetCount_management(wta).getOutput(0)\n",
    "        print(conducive_workplaces_count)\n",
    "        \n",
    "        # Calculate the percentage of transit-accessible workplaces for the current CBG\n",
    "        if int(total_workplaces_count) == 0:\n",
    "            percent_conducive_workplaces = 0  # Set percentage to 0 if total is zero\n",
    "        else:\n",
    "            percent_conducive_workplaces = (int(conducive_workplaces_count) / int(total_workplaces_count)) * 100\n",
    "            print(percent_conducive_workplaces)\n",
    "\n",
    "        # Update the CBG feature with the conducive workplaces count and percentage\n",
    "        with arc.da.UpdateCursor(cbg_shp, [\"CWC\", \"PCW\"], query_expression) as update_cursor:\n",
    "            for update_row in update_cursor:\n",
    "                update_row[0] = conducive_workplaces_count\n",
    "                update_row[1] = percent_conducive_workplaces\n",
    "                update_cursor.updateRow(update_row)\n",
    "\n",
    "        # Clear the selection\n",
    "        arc.management.SelectLayerByAttribute(cbg_shp, \"CLEAR_SELECTION\")\n"
   ]
  },
  {
   "cell_type": "code",
   "execution_count": null,
   "metadata": {},
   "outputs": [],
   "source": [
    "#Field 'CWC' is the total amount of workplaces in a given CBG that due to meeting livable wage threshold is viewed as economic mobility factor\n",
    "# Field 'PCW' is a percentage value of accessibilty to CWC in a given CBG via transit"
   ]
  }
 ],
 "metadata": {
  "kernelspec": {
   "display_name": "ArcGISPro",
   "language": "Python",
   "name": "python3"
  },
  "language_info": {
   "file_extension": ".py",
   "name": "python",
   "version": "3"
  }
 },
 "nbformat": 4,
 "nbformat_minor": 2
}
